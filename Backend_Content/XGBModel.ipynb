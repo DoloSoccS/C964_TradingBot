{
 "cells": [
  {
   "cell_type": "code",
   "id": "initial_id",
   "metadata": {
    "collapsed": true,
    "ExecuteTime": {
     "end_time": "2025-06-13T22:24:03.054036Z",
     "start_time": "2025-06-13T22:24:01.772518Z"
    }
   },
   "source": [
    "import sys\n",
    "import os\n",
    "sys.path.append(os.path.abspath(os.path.join(os.getcwd(), '..')))\n",
    "from Database.MongoDB_Connection import start_db, close_db\n",
    "import pandas as pd\n",
    "from sklearn.model_selection import train_test_split\n",
    "from sklearn.metrics import accuracy_score, classification_report\n",
    "import xgboost as xgb\n",
    "import joblib"
   ],
   "outputs": [],
   "execution_count": 5
  },
  {
   "metadata": {
    "ExecuteTime": {
     "end_time": "2025-06-13T22:24:28.403528Z",
     "start_time": "2025-06-13T22:24:28.110648Z"
    }
   },
   "cell_type": "code",
   "source": [
    "# Database connection method is used here in order to bring all the database documents over from the collection. The connection should already be made via MongoDB_Operations file. If run for separate reasons, the connection will be made now.\n",
    "\n",
    "db = start_db()\n",
    "print(db)\n",
    "get_data = db.Finance_Data.find({\n",
    "    \"Ticker\": {\"$exists\": True},\n",
    "    \"SMA\": {\"$exists\": True},\n",
    "    \"EMA\": {\"$exists\": True},\n",
    "    \"MACD\": {\"$exists\": True},\n",
    "    \"RSI\": {\"$exists\": True},\n",
    "    \"ATR\": {\"$exists\": True},\n",
    "    \"WILLR\": {\"$exists\": True},\n",
    "    \"CCI\": {\"$exists\": True},\n",
    "    \"Success\": {\"$exists\": True}\n",
    "},\n",
    "    {\"_id\":0})\n",
    "\n",
    "df = pd.DataFrame(list(get_data))"
   ],
   "id": "5b4a554c2389f471",
   "outputs": [
    {
     "name": "stdout",
     "output_type": "stream",
     "text": [
      "C:\\Users\\CRTITSS\\Desktop\\Projects\\Backend_Content\n",
      "Test entry exists\n",
      "Database(MongoClient(host=['localhost:27017'], document_class=dict, tz_aware=False, connect=True), 'C964_Database')\n",
      "<class 'pandas.core.frame.DataFrame'>\n"
     ]
    }
   ],
   "execution_count": 7
  },
  {
   "metadata": {},
   "cell_type": "code",
   "source": [
    "# Splitting up the values for training and target.\n",
    "\n",
    "X = df[[\"Open\", \"High\", \"Low\", \"Volume\", \"Sentiment\", \"SMA\", \"EMA\", \"MACD\", \"RSI\", \"ATR\", \"WILLR\", \"CCI\"]]\n",
    "y = df[\"Success\"]\n",
    "\n",
    "X_train, X_test, y_train, y_test = train_test_split(X, y, test_size=0.25, random_state=471189)"
   ],
   "id": "78d11a157d4d207b",
   "outputs": [],
   "execution_count": null
  },
  {
   "metadata": {},
   "cell_type": "code",
   "source": [
    "# Train the model.\n",
    "\n",
    "# Initialize the XGB model. Label encoder parameter is used to safeguard against a depracated functions with sci-kit learn. Eval metric is set to LogLoss to show how well the model performed. It will return a number between 0 - 1. 0 meaning it performed perfectly( which means overfitting likely occurred which is not a good thing). N_jobs refers to the number of parallel threads used to train. It is set to -1 to use all available threads to speed up training.\n",
    "model = xgb.XGBClassifier(use_label_encoder=False, eval_metric='logloss', n_jobs=-1)\n",
    "\n",
    "model.fit(X_train, y_train)\n",
    "\n",
    "joblib.dump(model, \"C964_model.joblib\")  # Saves the model for use."
   ],
   "id": "668c92d0b8c48c1d",
   "outputs": [],
   "execution_count": null
  },
  {
   "metadata": {
    "ExecuteTime": {
     "end_time": "2025-06-13T07:07:37.117736Z",
     "start_time": "2025-06-13T07:07:37.075910Z"
    }
   },
   "cell_type": "code",
   "source": [
    "# Evaluate the model and print the results.\n",
    "\n",
    "y_pred = model.predict(X_test)\n",
    "acc = accuracy_score(y_test, y_pred)\n",
    "\n",
    "print(model.classes_)\n",
    "print(f\" Accuracy: {acc:.2f}\")\n",
    "print(classification_report(y_test, y_pred))"
   ],
   "id": "2465257a026907f8",
   "outputs": [
    {
     "name": "stdout",
     "output_type": "stream",
     "text": [
      "[0 1]\n",
      " Accuracy: 0.74\n",
      "              precision    recall  f1-score   support\n",
      "\n",
      "           0       0.74      0.75      0.75     57848\n",
      "           1       0.75      0.73      0.74     57225\n",
      "\n",
      "    accuracy                           0.74    115073\n",
      "   macro avg       0.74      0.74      0.74    115073\n",
      "weighted avg       0.74      0.74      0.74    115073\n",
      "\n"
     ]
    }
   ],
   "execution_count": 8
  },
  {
   "metadata": {
    "ExecuteTime": {
     "end_time": "2025-06-13T22:27:30.147546Z",
     "start_time": "2025-06-13T22:27:30.135896Z"
    }
   },
   "cell_type": "code",
   "source": [
    "# Disconnect from database. Once model is deployed, the database will not need to be accessed for use with predictions.\n",
    "close_db()"
   ],
   "id": "db52e292a92248ea",
   "outputs": [
    {
     "name": "stdout",
     "output_type": "stream",
     "text": [
      "Database connection closed.\n"
     ]
    }
   ],
   "execution_count": 8
  }
 ],
 "metadata": {
  "kernelspec": {
   "display_name": "Python 3",
   "language": "python",
   "name": "python3"
  },
  "language_info": {
   "codemirror_mode": {
    "name": "ipython",
    "version": 2
   },
   "file_extension": ".py",
   "mimetype": "text/x-python",
   "name": "python",
   "nbconvert_exporter": "python",
   "pygments_lexer": "ipython2",
   "version": "2.7.6"
  }
 },
 "nbformat": 4,
 "nbformat_minor": 5
}
