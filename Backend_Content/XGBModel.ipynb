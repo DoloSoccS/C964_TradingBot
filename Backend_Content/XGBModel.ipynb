{
 "cells": [
  {
   "cell_type": "code",
   "id": "initial_id",
   "metadata": {
    "collapsed": true,
    "ExecuteTime": {
     "end_time": "2025-06-10T21:58:04.223255Z",
     "start_time": "2025-06-10T21:58:04.216525Z"
    }
   },
   "source": [
    "import sys\n",
    "import os\n",
    "sys.path.append(os.path.abspath(os.path.join(os.getcwd(), '..')))\n",
    "from Database.MongoDB_Connection import start_db, close_db\n",
    "import pandas as pd\n",
    "from sklearn.model_selection import train_test_split\n",
    "from sklearn.metrics import accuracy_score, classification_report\n",
    "import xgboost as xgb\n",
    "import joblib"
   ],
   "outputs": [],
   "execution_count": 14
  },
  {
   "metadata": {
    "ExecuteTime": {
     "end_time": "2025-06-10T21:58:05.418529Z",
     "start_time": "2025-06-10T21:58:04.245938Z"
    }
   },
   "cell_type": "code",
   "source": [
    "# Database connection method is used here in order to bring all the database documents over from the collection. The connection should already be made via MongoDB_Operations file. If not, the connection will be made now.\n",
    "\n",
    "\n",
    "print(os.getcwd())\n",
    "db = start_db()\n",
    "print(db)\n",
    "get_data = db.Finance_Data.find({\n",
    "    \"Ticker\": {\"$exists\": True},\n",
    "    \"SMA\": {\"$exists\": True},\n",
    "    \"EMA\": {\"$exists\": True},\n",
    "    \"MACD\": {\"$exists\": True},\n",
    "    \"RSI\": {\"$exists\": True},\n",
    "    \"Success\": {\"$exists\": True}\n",
    "},\n",
    "    {\"_id\":0})\n",
    "\n",
    "df = pd.DataFrame(list(get_data))\n",
    "print(type(df))"
   ],
   "id": "5b4a554c2389f471",
   "outputs": [
    {
     "name": "stdout",
     "output_type": "stream",
     "text": [
      "C:\\Users\\CRTITSS\\Desktop\\Projects\\Backend_Content\n",
      "['C964_Database', 'admin', 'config', 'local']\n",
      "Test entry exists\n",
      "Database(MongoClient(host=['localhost:27017'], document_class=dict, tz_aware=False, connect=True), 'C964_Database')\n",
      "<class 'pandas.core.frame.DataFrame'>\n"
     ]
    }
   ],
   "execution_count": 15
  },
  {
   "metadata": {
    "ExecuteTime": {
     "end_time": "2025-06-10T21:58:05.475257Z",
     "start_time": "2025-06-10T21:58:05.441687Z"
    }
   },
   "cell_type": "code",
   "source": [
    "# Separate the document fields from the \"Success\" target column\n",
    "\n",
    "X = df[[\"Open\", \"High\", \"Low\", \"Volume\", \"Sentiment\", \"SMA\", \"EMA\", \"MACD\", \"RSI\"]]\n",
    "y = df[\"Success\"]\n",
    "\n",
    "X_train, X_test, y_train, y_test = train_test_split(X, y, test_size=0.20, random_state=471189)"
   ],
   "id": "78d11a157d4d207b",
   "outputs": [],
   "execution_count": 16
  },
  {
   "metadata": {
    "ExecuteTime": {
     "end_time": "2025-06-10T21:58:05.879327Z",
     "start_time": "2025-06-10T21:58:05.492669Z"
    }
   },
   "cell_type": "code",
   "source": [
    "# Train the model.\n",
    "\n",
    "# Initialize the XGB model. Label encoder parameter is used to safeguard against a depracated functions with sci-kit learn. Eval metric is set to LogLoss to show how well the model performed. It will return a number between 0 - 1. 0 meaning it performed perfectly( which means overfitting likely occurred which is not a good thing). N_jobs refers to the number of parallel threads used to train. It is set to -1 to use all available threads to speed up training.\n",
    "model = xgb.XGBClassifier(use_label_encoder=False, eval_metric='logloss', n_jobs=-1)\n",
    "\n",
    "model.fit(X_train, y_train)\n",
    "\n",
    "joblib.dump(model, \"C964_model.joblib\")"
   ],
   "id": "668c92d0b8c48c1d",
   "outputs": [
    {
     "name": "stderr",
     "output_type": "stream",
     "text": [
      "C:\\Users\\CRTITSS\\AppData\\Local\\Programs\\Python\\Python312\\Lib\\site-packages\\xgboost\\training.py:183: UserWarning: [16:58:05] WARNING: C:\\actions-runner\\_work\\xgboost\\xgboost\\src\\learner.cc:738: \n",
      "Parameters: { \"use_label_encoder\" } are not used.\n",
      "\n",
      "  bst.update(dtrain, iteration=i, fobj=obj)\n"
     ]
    },
    {
     "data": {
      "text/plain": [
       "['C964_model.joblib']"
      ]
     },
     "execution_count": 17,
     "metadata": {},
     "output_type": "execute_result"
    }
   ],
   "execution_count": 17
  },
  {
   "metadata": {
    "ExecuteTime": {
     "end_time": "2025-06-10T21:58:05.936960Z",
     "start_time": "2025-06-10T21:58:05.899621Z"
    }
   },
   "cell_type": "code",
   "source": [
    "# Evaluate the model and print the results.\n",
    "\n",
    "y_pred = model.predict(X_test)\n",
    "acc = accuracy_score(y_test, y_pred)\n",
    "\n",
    "print(f\" Accuracy: {acc:.2f}\")\n",
    "print(classification_report(y_test, y_pred))"
   ],
   "id": "2465257a026907f8",
   "outputs": [
    {
     "name": "stdout",
     "output_type": "stream",
     "text": [
      " Accuracy: 0.73\n",
      "              precision    recall  f1-score   support\n",
      "\n",
      "           0       0.74      0.76      0.75     21260\n",
      "           1       0.73      0.71      0.72     19294\n",
      "\n",
      "    accuracy                           0.73     40554\n",
      "   macro avg       0.73      0.73      0.73     40554\n",
      "weighted avg       0.73      0.73      0.73     40554\n",
      "\n"
     ]
    }
   ],
   "execution_count": 18
  },
  {
   "metadata": {
    "ExecuteTime": {
     "end_time": "2025-06-10T21:58:05.962069Z",
     "start_time": "2025-06-10T21:58:05.959095Z"
    }
   },
   "cell_type": "code",
   "source": [
    "# Evaluate a random Ticker not in the database. The ticker can already exist in the database. This would be the most up-to-date information theoretically.\n",
    "\n",
    "# import yfinance as yf\n",
    "#\n",
    "# data = yf.download(\"BTC\", period=\"max\", interval=\"1d\", progress=False)\n",
    "\n"
   ],
   "id": "a1a9c42adbb53b7a",
   "outputs": [],
   "execution_count": 19
  }
 ],
 "metadata": {
  "kernelspec": {
   "display_name": "Python 3",
   "language": "python",
   "name": "python3"
  },
  "language_info": {
   "codemirror_mode": {
    "name": "ipython",
    "version": 2
   },
   "file_extension": ".py",
   "mimetype": "text/x-python",
   "name": "python",
   "nbconvert_exporter": "python",
   "pygments_lexer": "ipython2",
   "version": "2.7.6"
  }
 },
 "nbformat": 4,
 "nbformat_minor": 5
}
