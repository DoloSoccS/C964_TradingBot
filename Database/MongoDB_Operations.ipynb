{
 "cells": [
  {
   "metadata": {
    "ExecuteTime": {
     "end_time": "2025-05-29T01:51:33.722109Z",
     "start_time": "2025-05-29T01:51:28.920117Z"
    }
   },
   "cell_type": "code",
   "source": [
    "import yfinance as yf\n",
    "import numpy as np\n",
    "from MongoDB_Connection import start_db\n",
    "import pandas as pd\n",
    "import time\n",
    "import talib as ta\n",
    "import nltk"
   ],
   "id": "2cb6c033f0c533d5",
   "outputs": [],
   "execution_count": 10
  },
  {
   "metadata": {},
   "cell_type": "code",
   "outputs": [],
   "execution_count": null,
   "source": [
    "# Connect to MongoDB\n",
    "db = start_db()\n",
    "print(db)"
   ],
   "id": "24e00561f5af5a5e"
  },
  {
   "metadata": {},
   "cell_type": "code",
   "outputs": [],
   "execution_count": null,
   "source": [
    "#Tickers for training\n",
    "tickers = [\n",
    "    \"NVDA\", \"QBTS\", \"TSLA\", \"LCID\", \"F\", \"PLTR\", \"SOUN\", \"RGTI\", \"INFA\", \"AAL\",\n",
    "    \"MARA\", \"BTG\", \"INTC\", \"CLF\", \"PDD\", \"JWN\", \"DJT\", \"AAPL\", \"OKLO\", \"SOFI\",\n",
    "    \"X\", \"NIO\", \"WRD\", \"ITUB\", \"SMCI\", \"NU\", \"RIOT\", \"RIVN\", \"SMR\", \"AMD\",\n",
    "    \"GOOGL\", \"ACHR\", \"GME\", \"UEC\", \"BBD\", \"ABEV\", \"AMZN\", \"AMCR\", \"RIG\", \"BAC\",\n",
    "    \"IONQ\", \"HOOD\", \"AGNC\", \"WBD\", \"PFE\", \"CLSK\", \"CNH\", \"CCL\", \"IAG\", \"GRAB\",\n",
    "    \"T\", \"KGC\", \"HBAN\", \"HIMS\", \"ERIC\", \"AUR\", \"MRVL\", \"PSLV\", \"GOOG\", \"VALE\",\n",
    "    \"NGD\", \"SNAP\", \"CX\", \"RKLB\", \"BB\", \"UNH\", \"HOLX\", \"HL\", \"CSX\", \"NOK\", \"VOD\",\n",
    "    \"PONY\", \"LYG\", \"MSFT\", \"HPE\", \"TEM\", \"KMI\", \"UAA\", \"ADT\", \"UBER\", \"GAP\",\n",
    "    \"HAL\", \"WMB\", \"LYFT\", \"HLN\", \"CMCSA\", \"CDE\", \"TEVA\", \"GGB\", \"LUMN\", \"VTRS\",\n",
    "    \"NCLH\", \"NXE\", \"PCG\", \"WMT\", \"MU\", \"LUV\", \"SLB\", \"PTEN\", \"CPNG\"\n",
    "]"
   ],
   "id": "a48bbb0ead2df9"
  },
  {
   "metadata": {},
   "cell_type": "code",
   "source": [
    "# Entering documents into database based on ticker symbols above. More attributes will\n",
    "# be added once the database is loaded with the initial data.\n",
    "for ticker in tickers:\n",
    "    try:\n",
    "        # Gather 10 year historical data\n",
    "        data = yf.download(ticker, period=\"10y\", interval=\"1d\", progress=False)\n",
    "\n",
    "        if not data.empty:\n",
    "            # Move 'Date' from index to column\n",
    "            data.reset_index(inplace=True)\n",
    "            data[\"Ticker\"] = ticker\n",
    "\n",
    "            # Convert NaNs to None (MongoDB does not accept NaN)\n",
    "            data.replace({np.nan: None}, inplace=True)\n",
    "\n",
    "            # Flatten MultiIndex columns if they exist. This prevents the data from being formatted incorrectly. Each value needed to be a string\n",
    "            if isinstance(data.columns, pd.MultiIndex):\n",
    "                data.columns = ['_'.join(filter(None, col)).strip() for col in data.columns]\n",
    "\n",
    "            attributes = data.to_dict(\"records\")\n",
    "\n",
    "            # Insert into MongoDB\n",
    "            db.Finance_Data.insert_many(attributes)\n",
    "            print(f\"Inserted {len(attributes)} attributes for {ticker}.\")\n",
    "\n",
    "        # Timer to prevent rate limit\n",
    "        time.sleep(3)\n",
    "    except Exception as e:\n",
    "        print(f\"{ticker} had an error being inserted: {e}\")\n"
   ],
   "id": "initial_id",
   "outputs": [],
   "execution_count": null
  },
  {
   "metadata": {},
   "cell_type": "code",
   "outputs": [],
   "execution_count": null,
   "source": [
    "# Restructuring the document fields in the database. From the yfinance API the fields are labeled as \"close_{ticker}\". This needed to be changed since the subsequent actions need to be easily manipulated across all tickers. Having them be uniform will make that process easier.\n",
    "\n",
    "rename_fields = [\"Open\", \"High\", \"Low\", \"Close\", \"Volume\"]\n",
    "tickers = db.Finance_Data.distinct(\"Ticker\")\n",
    "\n",
    "for ticker in tickers:\n",
    "    suffix = f\"_{ticker}\"\n",
    "    for field in rename_fields:\n",
    "        old_field = f\"{field}{suffix}\"\n",
    "        new_field = field\n",
    "        db.Finance_Data.update_many(\n",
    "            {old_field: {\"$exists\": True}},\n",
    "            {\"$rename\": {old_field: new_field}}\n",
    "        )\n",
    "    print(f\"Renamed fields for {ticker}\")\n"
   ],
   "id": "4d491272be2e1ce3"
  },
  {
   "metadata": {},
   "cell_type": "code",
   "source": [
    "\"\"\"\n",
    "The next few sections will be for adding the additional columns to the database documents.\n",
    "The first one will add a \"Success\" column. This will be based on whether the stock's \"Close\" value is greater than the \"Open\" value.\n",
    "This is the only one that will require a manual calculation to be performed.\n",
    "Next, the \"Sentiment Score\" column will be added using the nltk package. This library aggregates a list of related news articles pertaining to the ticker symbol in question. A value will be produced from -1 to +1.\n",
    "The columns for SMA, EMA, RSI and MACD will use a group of values from the ticker symbol in order to make the calculations.\n",
    "This action will be performed using the TA-lib package.\n",
    "\"\"\"\n"
   ],
   "id": "cc2e88e08308dce0",
   "outputs": [],
   "execution_count": null
  },
  {
   "metadata": {
    "ExecuteTime": {
     "end_time": "2025-05-29T02:48:42.909434Z",
     "start_time": "2025-05-29T02:47:56.317580Z"
    }
   },
   "cell_type": "code",
   "outputs": [],
   "execution_count": 27,
   "source": [
    "# Adding the 'Success' column\n",
    "\n",
    "for doc in db.Finance_Data.find():\n",
    "    testdoc_close = doc.get(\"Close\")\n",
    "    testdoc_open = doc.get(\"Open\")\n",
    "\n",
    "    if testdoc_close is not None and testdoc_open is not None:\n",
    "        success_flag = 1 if testdoc_close > testdoc_open else 0\n",
    "        db.Finance_Data.update_one(\n",
    "            {\"_id\": doc[\"_id\"]},\n",
    "            {\"$set\": {\"Success\": success_flag}}\n",
    "        )\n"
   ],
   "id": "f8ed3cbc48952b37"
  },
  {
   "metadata": {},
   "cell_type": "code",
   "outputs": [],
   "execution_count": null,
   "source": [
    "# Adding the 'Sentiment Score' column\n",
    "\n",
    "DON'T USE UNTIL THE CODE IS IMPLEMENTED SPECIFICALLY FOR THE DATABASE.\n",
    "\n",
    "import nltk\n",
    "from nltk.sentiment.vader import SentimentIntensityAnalyzer\n",
    "import yfinance as yf\n",
    "\n",
    "# Download VADER lexicon (only needs to be done once)\n",
    "nltk.download('vader_lexicon')\n",
    "\n",
    "# Set up the stock ticker symbol\n",
    "ticker_symbol = \"AAPL\"\n",
    "ticker = yf.Ticker(ticker_symbol)\n",
    "\n",
    "# Fetch news articles for the stock\n",
    "news_items = ticker.news\n",
    "\n",
    "# Initialize VADER Sentiment Analyzer\n",
    "sia = SentimentIntensityAnalyzer()\n",
    "sentiment_scores = {}\n",
    "\n",
    "# Analyze sentiment for each news summary\n",
    "for item in news_items:\n",
    "    content = item.get(\"content\", {})\n",
    "    headline = content.get(\"title\", \"No Title Available\")\n",
    "    summary = content.get(\"summary\", \"No Summary Available\")\n",
    "\n",
    "    sentiment = sia.polarity_scores(summary)\n",
    "    sentiment_scores[summary] = sentiment\n",
    "\n",
    "    print(f\"Headline: {headline}\")\n",
    "    print(f\"Sentiment: {sentiment}\")\n",
    "    print(\"-\" * 50)\n",
    "\n",
    "# Build summary dictionary for the stock\n",
    "aapl_summary = {\n",
    "    \"Symbol\": ticker_symbol,\n",
    "    \"Name\": ticker.info.get(\"longName\", \"Unknown Company\"),\n",
    "    \"Market Data\": ticker.info,\n",
    "    \"Sentiment Scores\": sentiment_scores\n",
    "}\n",
    "\n",
    "print(aapl_summary)\n"
   ],
   "id": "8e6cada2c42f9cda"
  }
 ],
 "metadata": {
  "kernelspec": {
   "display_name": "Python 3",
   "language": "python",
   "name": "python3"
  },
  "language_info": {
   "codemirror_mode": {
    "name": "ipython",
    "version": 2
   },
   "file_extension": ".py",
   "mimetype": "text/x-python",
   "name": "python",
   "nbconvert_exporter": "python",
   "pygments_lexer": "ipython2",
   "version": "2.7.6"
  }
 },
 "nbformat": 4,
 "nbformat_minor": 5
}
