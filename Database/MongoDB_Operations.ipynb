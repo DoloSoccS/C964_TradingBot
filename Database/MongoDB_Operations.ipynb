{
 "cells": [
  {
   "metadata": {
    "ExecuteTime": {
     "end_time": "2025-06-01T23:20:49.135161Z",
     "start_time": "2025-06-01T23:20:42.604799Z"
    }
   },
   "cell_type": "code",
   "source": [
    "import yfinance as yf\n",
    "import numpy as np\n",
    "from MongoDB_Connection import start_db\n",
    "import pandas as pd\n",
    "import time\n",
    "import talib as ta\n",
    "import nltk\n",
    "from nltk.sentiment.vader import SentimentIntensityAnalyzer"
   ],
   "id": "2cb6c033f0c533d5",
   "outputs": [],
   "execution_count": 2
  },
  {
   "metadata": {
    "ExecuteTime": {
     "end_time": "2025-06-01T23:32:29.409237Z",
     "start_time": "2025-06-01T23:32:29.379215Z"
    }
   },
   "cell_type": "code",
   "source": [
    "# Connect to MongoDB\n",
    "db = start_db()\n",
    "print(db)"
   ],
   "id": "24e00561f5af5a5e",
   "outputs": [
    {
     "name": "stdout",
     "output_type": "stream",
     "text": [
      "['C964_Database', 'admin', 'config', 'local', 'newDatabase']\n",
      "Entry exists\n",
      "Database(MongoClient(host=['localhost:27017'], document_class=dict, tz_aware=False, connect=True), 'C964_Database')\n"
     ]
    }
   ],
   "execution_count": 11
  },
  {
   "metadata": {},
   "cell_type": "code",
   "outputs": [],
   "execution_count": null,
   "source": [
    "#Tickers for training\n",
    "print(\"Reading list of tickers to be loaded.\")\n",
    "\n",
    "tickers = [\n",
    "    \"NVDA\", \"QBTS\", \"TSLA\", \"LCID\", \"F\", \"PLTR\", \"SOUN\", \"RGTI\", \"INFA\", \"AAL\",\n",
    "    \"MARA\", \"BTG\", \"INTC\", \"CLF\", \"PDD\", \"JWN\", \"DJT\", \"AAPL\", \"OKLO\", \"SOFI\",\n",
    "    \"X\", \"NIO\", \"WRD\", \"ITUB\", \"SMCI\", \"NU\", \"RIOT\", \"RIVN\", \"SMR\", \"AMD\",\n",
    "    \"GOOGL\", \"ACHR\", \"GME\", \"UEC\", \"BBD\", \"ABEV\", \"AMZN\", \"AMCR\", \"RIG\", \"BAC\",\n",
    "    \"IONQ\", \"HOOD\", \"AGNC\", \"WBD\", \"PFE\", \"CLSK\", \"CNH\", \"CCL\", \"IAG\", \"GRAB\",\n",
    "    \"T\", \"KGC\", \"HBAN\", \"HIMS\", \"ERIC\", \"AUR\", \"MRVL\", \"PSLV\", \"GOOG\", \"VALE\",\n",
    "    \"NGD\", \"SNAP\", \"CX\", \"RKLB\", \"BB\", \"UNH\", \"HOLX\", \"HL\", \"CSX\", \"NOK\", \"VOD\",\n",
    "    \"PONY\", \"LYG\", \"MSFT\", \"HPE\", \"TEM\", \"KMI\", \"UAA\", \"ADT\", \"UBER\", \"GAP\",\n",
    "    \"HAL\", \"WMB\", \"LYFT\", \"HLN\", \"CMCSA\", \"CDE\", \"TEVA\", \"GGB\", \"LUMN\", \"VTRS\",\n",
    "    \"NCLH\", \"NXE\", \"PCG\", \"WMT\", \"MU\", \"LUV\", \"SLB\", \"PTEN\", \"CPNG\"\n",
    "]"
   ],
   "id": "a48bbb0ead2df9"
  },
  {
   "metadata": {},
   "cell_type": "code",
   "source": [
    "# Entering documents into database based on ticker symbols above. More fields will be added once the database is loaded with the initial ticker data.\n",
    "\n",
    "print(\"Inserting documents into MongoDB.\")\n",
    "\n",
    "for ticker in tickers:\n",
    "    try:\n",
    "        # Gather 10 year historical data\n",
    "        data = yf.download(ticker, period=\"10y\", interval=\"1d\", progress=False)\n",
    "\n",
    "        if not data.empty:\n",
    "            # Move 'Date' from index to column\n",
    "            data.reset_index(inplace=True)\n",
    "            data[\"Ticker\"] = ticker\n",
    "\n",
    "            # Convert NaNs to None (MongoDB does not accept NaN)\n",
    "            data.replace({np.nan: None}, inplace=True)\n",
    "\n",
    "            # This prevents the data from being formatted incorrectly. Each value needs to be a string.\n",
    "            if isinstance(data.columns, pd.MultiIndex):\n",
    "                data.columns = ['_'.join(filter(None, col)).strip() for col in data.columns]\n",
    "\n",
    "            # Create dictionary of documents to enter into database\n",
    "            newDocs = data.to_dict(\"records\")\n",
    "\n",
    "            # Insert into MongoDB\n",
    "            db.Finance_Data.insert_many(newDocs)\n",
    "            print(f\"Inserted {len(newDocs)} attributes for {ticker}.\")\n",
    "\n",
    "        # Timer to prevent rate limit on yfinance. This limiter will cause a multi-day lockout.\n",
    "        time.sleep(3)\n",
    "    except Exception as e:\n",
    "        print(f\"{ticker} had an error being inserted: {e}\")\n"
   ],
   "id": "initial_id",
   "outputs": [],
   "execution_count": null
  },
  {
   "metadata": {},
   "cell_type": "code",
   "outputs": [],
   "execution_count": null,
   "source": [
    "# Restructuring the document fields in the database. From the yfinance API the fields are labeled as \"close_{ticker}\". This needed to be changed since the subsequent actions need to be easily manipulated across all tickers. Having them be uniform will make that process easier.\n",
    "print(\"Transforming field names.\")\n",
    "\n",
    "rename_fields = [\"Open\", \"High\", \"Low\", \"Close\", \"Volume\"]\n",
    "tickers = db.Finance_Data.distinct(\"Ticker\")\n",
    "\n",
    "for ticker in tickers:\n",
    "    suffix = f\"_{ticker}\"\n",
    "    for field in rename_fields:\n",
    "        old_field = f\"{field}{suffix}\"\n",
    "        new_field = field\n",
    "        db.Finance_Data.update_many(\n",
    "            {old_field: {\"$exists\": True}},\n",
    "            {\"$rename\": {old_field: new_field}}\n",
    "        )\n",
    "    print(f\"Renamed fields for {ticker}\")\n"
   ],
   "id": "4d491272be2e1ce3"
  },
  {
   "metadata": {},
   "cell_type": "code",
   "source": [
    "\"\"\"\n",
    "The next few sections will be for adding the additional columns to the database documents.\n",
    "The first one will add a \"Success\" column. This will be based on whether the stock's \"Close\" value is greater than the \"Open\" value.\n",
    "This is the only one that will require a manual calculation to be performed.\n",
    "Next, the \"Sentiment Score\" column will be added using the nltk package. This library aggregates a list of related news articles pertaining to the ticker symbol in question. A value will be produced from -1 to +1.\n",
    "The columns for SMA, EMA, RSI and MACD will use a group of values from the ticker symbol in order to make the calculations.\n",
    "This action will be performed using the TA-lib package.\n",
    "\"\"\"\n"
   ],
   "id": "cc2e88e08308dce0",
   "outputs": [],
   "execution_count": null
  },
  {
   "metadata": {
    "ExecuteTime": {
     "end_time": "2025-05-29T18:25:43.790113Z",
     "start_time": "2025-05-29T18:22:51.849413Z"
    }
   },
   "cell_type": "code",
   "outputs": [],
   "execution_count": 6,
   "source": [
    "# Adding the 'Success' column\n",
    "print(\"Adding Success column to database.\")\n",
    "\n",
    "# Gather each documents Open and Close value. If Open < Close, then Success = 1. Otherwise, Success = 0.\n",
    "for doc in db.Finance_Data.find():\n",
    "    doc_close = doc.get(\"Close\")\n",
    "    doc_open = doc.get(\"Open\")\n",
    "\n",
    "    if doc_close is not None and doc_open is not None:\n",
    "        success_flag = 1 if doc_close > doc_open else 0\n",
    "        db.Finance_Data.update_one(\n",
    "            {\"_id\": doc[\"_id\"]},\n",
    "            {\"$set\": {\"Success\": success_flag}}\n",
    "        )\n"
   ],
   "id": "f8ed3cbc48952b37"
  },
  {
   "metadata": {},
   "cell_type": "code",
   "outputs": [],
   "execution_count": null,
   "source": [
    "# Adding the 'Sentiment Score' column\n",
    "print(\"Adding sentiment score for each ticker.\")\n",
    "\n",
    "nltk.download('vader_lexicon')\n",
    "\n",
    "# Initialize Sentiment Analyzer for using model against related news articles\n",
    "sia = SentimentIntensityAnalyzer()\n",
    "\n",
    "# Get list of tickers\n",
    "tickers = db.Finance_Data.distinct(\"Ticker\")\n",
    "\n",
    "for ticker_symbol in tickers:\n",
    "    try:\n",
    "        ticker = yf.Ticker(ticker_symbol)\n",
    "        news_items = ticker.news\n",
    "\n",
    "        # Calculate average compound sentiment score. This will be added as the data point for all ticker entries for initial concept.\n",
    "        compound_scores = []\n",
    "\n",
    "        for item in news_items:\n",
    "            content = item.get(\"content\", {})\n",
    "            summary = content.get(\"summary\", \"\")\n",
    "            sentiment = sia.polarity_scores(summary)\n",
    "            compound_scores.append(sentiment[\"compound\"])\n",
    "\n",
    "        if compound_scores:\n",
    "            average_sentiment = sum(compound_scores) / len(compound_scores)\n",
    "        else:\n",
    "            average_sentiment = None\n",
    "\n",
    "        # Update all documents for this ticker with sentiment (or just latest if preferred)\n",
    "        db.Finance_Data.update_many(\n",
    "            {\"Ticker\": ticker_symbol},\n",
    "            {\"$set\": {\"Sentiment\": average_sentiment}}\n",
    "        )\n",
    "\n",
    "        # If there is no news available for given ticker, set default sentiment to neutral (0.0).\n",
    "    except Exception as e:\n",
    "        print(f\"Error processing {ticker_symbol}: {e}. Default sentiment value is 0.0.\")\n",
    "        db.Finance_Data.update_many(\n",
    "            {\"Ticker\": ticker_symbol},\n",
    "            {\"$set\": {\"Sentiment\": 0.0}}\n",
    "        )\n"
   ],
   "id": "8e6cada2c42f9cda"
  },
  {
   "metadata": {
    "ExecuteTime": {
     "end_time": "2025-06-02T00:20:10.955193Z",
     "start_time": "2025-06-02T00:19:13.332905Z"
    }
   },
   "cell_type": "code",
   "source": [
    "# Adding the columns for SMA (Simple Moving Average), EMA (Exponential Moving Average), RSI (Relative Strength Index) and MACD ( Moving Average Convergence/Divergence)\n",
    "print(\"Adding technical indicators\")\n",
    "\n",
    "tickers = db.Finance_Data.distinct(\"Ticker\")\n",
    "for symbol in tickers:\n",
    "\n",
    "    # Converting to list and sorting by date so that each indicator aligns properly\n",
    "    current = list(db.Finance_Data.find({\"Ticker\": symbol}).sort(\"Date\",1))\n",
    "    close = [doc[\"Close\"] for doc in current if \"Close\" in doc]\n",
    "\n",
    "    # Skip the first 29 days to avoid NaN values being placed in the database\n",
    "    if len(close) < 30:\n",
    "        continue\n",
    "\n",
    "    npArray = np.array(close)\n",
    "\n",
    "    SMA_values = ta.SMA(npArray, timeperiod=30)\n",
    "    EMA_values = ta.EMA(npArray, timeperiod=30)\n",
    "    RSI_values = ta.RSI(npArray, timeperiod=30)\n",
    "    MACD_values, MACD_signal, _ = ta.MACD(npArray, fastperiod=10, slowperiod=28, signalperiod=7)\n",
    "\n",
    "\n",
    "    # Iterating through document to add indicator value.\n",
    "    for i, doc in enumerate(current):\n",
    "        # Will be used to store all the key:value pairs for inserting document fields\n",
    "        insert = {}\n",
    "\n",
    "        # The second check to make sure there are no NaN values placed in the database\n",
    "        # There may be a situation where the value is NaN after the 30-day point.\n",
    "\n",
    "        #SMA\n",
    "        if i < len(SMA_values) and SMA_values[i] is not np.nan:\n",
    "            insert[\"SMA\"] = float(EMA_values[i])\n",
    "        #EMA\n",
    "        if i < len(EMA_values) and EMA_values[i] is not np.nan:\n",
    "            insert[\"EMA\"] = float(EMA_values[i])\n",
    "        #RSI\n",
    "        if i < len(RSI_values) and RSI_values[i] is not np.nan:\n",
    "            insert[\"RSI\"] = float(RSI_values[i])\n",
    "        #MACD\n",
    "        if i < len(MACD_values) and MACD_values[i] is not np.nan:\n",
    "            insert[\"MACD\"] = float(MACD_values[i])\n",
    "\n",
    "        # Insert values for document\n",
    "        db.Finance_Data.update_one({\"_id\": doc[\"_id\"]}, {\"$set\": insert})\n",
    "\n",
    "print(\"Finish\")"
   ],
   "id": "c98109cc55576348",
   "outputs": [
    {
     "name": "stdout",
     "output_type": "stream",
     "text": [
      "Finish\n"
     ]
    }
   ],
   "execution_count": 22
  }
 ],
 "metadata": {
  "kernelspec": {
   "display_name": "Python 3",
   "language": "python",
   "name": "python3"
  },
  "language_info": {
   "codemirror_mode": {
    "name": "ipython",
    "version": 2
   },
   "file_extension": ".py",
   "mimetype": "text/x-python",
   "name": "python",
   "nbconvert_exporter": "python",
   "pygments_lexer": "ipython2",
   "version": "2.7.6"
  }
 },
 "nbformat": 4,
 "nbformat_minor": 5
}
